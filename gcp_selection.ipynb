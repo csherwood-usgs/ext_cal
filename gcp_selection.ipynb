{
 "cells": [
  {
   "cell_type": "markdown",
   "id": "aa15e65e",
   "metadata": {},
   "source": [
    "## gcp_selection - Get image coordinates for GCPs\n",
    "* Load an image w/ visibile GCP locations\n",
    "* Use holoviews to pan, zoom, and click on GCP location\n",
    "* Edit table to add gcp ids\n",
    "* Save points in .csv file\n",
    "\n",
    "Python implementation of CIRN QCIT function `gcpSelection.m`  \n",
    "\n",
    "##### Required libraries  \n",
    "  numpy  \n",
    "  PIL  \n",
    "  holoviews \n",
    "\n",
    "##### Notice: Don't run the whole notebook at once...user interaction is needed in cell 4.\n",
    "\n",
    "csherwood@usgs.gov"
   ]
  },
  {
   "cell_type": "markdown",
   "id": "7bd5e0ec",
   "metadata": {},
   "source": [
    "#### Import required libaries"
   ]
  },
  {
   "cell_type": "code",
   "execution_count": null,
   "id": "579a7720",
   "metadata": {},
   "outputs": [],
   "source": [
    "import numpy as np\n",
    "import holoviews as hv\n",
    "from PIL import Image\n",
    "from holoviews import opts, streams\n",
    "from holoviews.plotting.links import DataLink\n",
    "hv.extension('bokeh')"
   ]
  },
  {
   "cell_type": "markdown",
   "id": "54fc744c",
   "metadata": {},
   "source": [
    "#### User input - edit this cell:"
   ]
  },
  {
   "cell_type": "code",
   "execution_count": null,
   "id": "27211f0c",
   "metadata": {},
   "outputs": [],
   "source": [
    "# Specify camera id and calibration date\n",
    "cam_id = 'caco-02_C2'\n",
    "cal_date = '2023-03-22'\n",
    "\n",
    "# Specify location for output\n",
    "odir = './'                  \n",
    "oname_base = '_gcp_UVd_intial.csv'\n",
    "\n",
    "# Specify image location\n",
    "img_dir = 'D:/crs/proj/2019_CACO_CoastCam/CACO-02/2023-03-22_extrinsics/images/'\n",
    "img_fname = '1679497200.Wed.Mar.22_15_00_00.GMT.2023.caco-02.c2.timex.jpg'"
   ]
  },
  {
   "cell_type": "markdown",
   "id": "20f23659",
   "metadata": {},
   "source": [
    "#### ... end user input.\n",
    "#### Check these values:"
   ]
  },
  {
   "cell_type": "code",
   "execution_count": null,
   "id": "391a079b",
   "metadata": {},
   "outputs": [],
   "source": [
    "oname = cam_id+'-'+cal_date+oname_base\n",
    "opath = odir+oname\n",
    "print('Output path: ',opath)"
   ]
  },
  {
   "cell_type": "markdown",
   "id": "7d3e7985",
   "metadata": {},
   "source": [
    "#### Pick gcp locations\n",
    "\n",
    "Select pixel coordinates `Ud` and `Vd` in the \"distorted\" camera coordinate system.\n",
    "\n",
    "Tools to the right of image are active when indicated by the blue bar. They allow you to:\n",
    "- Pan\n",
    "- Box zoom\n",
    "- Scroll-wheel zoom\n",
    "- Drop points, or select points and move them\n",
    "- Save the resulting image  \n",
    "\n",
    "#### Instructions \n",
    "Pan, zoom, and drop points at surveyed gcp locations. Edit by adjusting point locations by click and drag, if necessary.\n",
    "To remove a point, edit the table to make that line blank.\n",
    "\n",
    "Edit the third column to insert ids for gcps. (Double click, then single click to edit the cell).\n",
    "\n",
    "After defining the points, move to the next cell and run it...the data should be appear in the `point_stream` object.\n",
    "\n",
    "#### TODO\n",
    "* Initialze without first line of no data\n",
    "* Use alternative library to read image? Matplotlib?\n",
    "* Optimize layout\n",
    "* Add title to figure?"
   ]
  },
  {
   "cell_type": "code",
   "execution_count": null,
   "id": "0c96bdee",
   "metadata": {},
   "outputs": [],
   "source": [
    "# Load image with pixel values as bounds\n",
    "# TODO: change to more common tool for loading images? matplotlib?\n",
    "img_pil = Image.open(img_dir+img_fname)\n",
    "img_height = img_pil.height\n",
    "img_width = img_pil.width\n",
    "\n",
    "bounds = (0, 0, img_width, img_height)\n",
    "img = hv.RGB(np.array(img_pil), bounds=bounds)\n",
    "\n",
    "# Create the PointDraw stream and link it to a Table\n",
    "# TODO - Do this without first row full of NaNs\n",
    "# (That was the only way I could make the last row the ID)\n",
    "points = hv.Points(([np.nan], [np.nan], [None]), vdims='gcp_id')\n",
    "point_stream = streams.PointDraw(data=points.columns(), source=points)\n",
    "table = hv.Table(points, ['x', 'y'], 'gcp_id')\n",
    "\n",
    "# This is how two columns are initialized\n",
    "# points = hv.Points(([], []))\n",
    "# point_stream = streams.PointDraw(data=points.columns(), source=points)\n",
    "# table = hv.Table(points, ['x', 'y'])\n",
    "\n",
    "#table.opts(width=300)\n",
    "DataLink(points, table)\n",
    "(img * points + table).opts(\n",
    "    opts.RGB(data_aspect=1),\n",
    "    opts.Layout(merge_tools=False),\n",
    "    opts.Points(active_tools=['point_draw'], size=10, tools=['hover'],\n",
    "                height=400, width=600),\n",
    "    opts.Table(editable=True))"
   ]
  },
  {
   "cell_type": "code",
   "execution_count": null,
   "id": "8b341ec5-7b9f-445f-b95c-cdb2d5a8dd0c",
   "metadata": {},
   "outputs": [],
   "source": [
    "# point_stream.data is a dict containing the tabulated values\n",
    "gcp_id = np.array( point_stream.data['gcp_id'] )\n",
    "Ud = np.array( point_stream.data['x'] )\n",
    "Vd = img_height - np.array( point_stream.data['y'] ) # image convention starts in upper left corner\n",
    "ok = np.squeeze(np.argwhere(np.isfinite(Ud+Vd)))\n",
    "for i,(id, Udi, Vdi) in enumerate(zip(gcp_id[ok], Ud[ok], Vd[ok])):\n",
    "    print('{}, {}, {:.02f}, {:.03f}'.format(i, id, Udi, Vdi))"
   ]
  },
  {
   "cell_type": "markdown",
   "id": "df40e9a4",
   "metadata": {},
   "source": [
    "#### Save the points in a .csv file"
   ]
  },
  {
   "cell_type": "code",
   "execution_count": null,
   "id": "6213d287",
   "metadata": {},
   "outputs": [],
   "source": [
    "with open( opath, 'w') as csv_file:\n",
    "    for (id, Udi, Vdi) in zip(gcp_id[ok], Ud[ok], Vd[ok]):\n",
    "       csv_file.write('{}, {:.02f}, {:.03f}\\n'.format(id, Udi, Vdi))\n",
    "csv_file.close()\n",
    "print('Points saved in ',opath)"
   ]
  }
 ],
 "metadata": {
  "kernelspec": {
   "display_name": "Python 3 (ipykernel)",
   "language": "python",
   "name": "python3"
  },
  "language_info": {
   "codemirror_mode": {
    "name": "ipython",
    "version": 3
   },
   "file_extension": ".py",
   "mimetype": "text/x-python",
   "name": "python",
   "nbconvert_exporter": "python",
   "pygments_lexer": "ipython3",
   "version": "3.10.4"
  }
 },
 "nbformat": 4,
 "nbformat_minor": 5
}
